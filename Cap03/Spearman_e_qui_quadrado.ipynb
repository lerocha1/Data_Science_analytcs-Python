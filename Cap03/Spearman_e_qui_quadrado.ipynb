{
 "cells": [
  {
   "cell_type": "code",
   "execution_count": 4,
   "id": "6e01c06c",
   "metadata": {},
   "outputs": [
    {
     "data": {
      "text/html": [
       "<div>\n",
       "<style scoped>\n",
       "    .dataframe tbody tr th:only-of-type {\n",
       "        vertical-align: middle;\n",
       "    }\n",
       "\n",
       "    .dataframe tbody tr th {\n",
       "        vertical-align: top;\n",
       "    }\n",
       "\n",
       "    .dataframe thead th {\n",
       "        text-align: right;\n",
       "    }\n",
       "</style>\n",
       "<table border=\"1\" class=\"dataframe\">\n",
       "  <thead>\n",
       "    <tr style=\"text-align: right;\">\n",
       "      <th></th>\n",
       "      <th>nomes</th>\n",
       "      <th>mpg</th>\n",
       "      <th>cyl</th>\n",
       "      <th>disp</th>\n",
       "      <th>hp</th>\n",
       "      <th>drat</th>\n",
       "      <th>wt</th>\n",
       "      <th>qsec</th>\n",
       "      <th>vs</th>\n",
       "      <th>am</th>\n",
       "      <th>gear</th>\n",
       "      <th>carb</th>\n",
       "    </tr>\n",
       "  </thead>\n",
       "  <tbody>\n",
       "    <tr>\n",
       "      <th>0</th>\n",
       "      <td>Mazda RX4</td>\n",
       "      <td>21.0</td>\n",
       "      <td>6</td>\n",
       "      <td>160.0</td>\n",
       "      <td>110</td>\n",
       "      <td>3.90</td>\n",
       "      <td>2.620</td>\n",
       "      <td>16.46</td>\n",
       "      <td>0</td>\n",
       "      <td>1</td>\n",
       "      <td>4</td>\n",
       "      <td>4</td>\n",
       "    </tr>\n",
       "    <tr>\n",
       "      <th>1</th>\n",
       "      <td>Mazda RX4 Wag</td>\n",
       "      <td>21.0</td>\n",
       "      <td>6</td>\n",
       "      <td>160.0</td>\n",
       "      <td>110</td>\n",
       "      <td>3.90</td>\n",
       "      <td>2.875</td>\n",
       "      <td>17.02</td>\n",
       "      <td>0</td>\n",
       "      <td>1</td>\n",
       "      <td>4</td>\n",
       "      <td>4</td>\n",
       "    </tr>\n",
       "    <tr>\n",
       "      <th>2</th>\n",
       "      <td>Datsun 710</td>\n",
       "      <td>22.8</td>\n",
       "      <td>4</td>\n",
       "      <td>108.0</td>\n",
       "      <td>93</td>\n",
       "      <td>3.85</td>\n",
       "      <td>2.320</td>\n",
       "      <td>18.61</td>\n",
       "      <td>1</td>\n",
       "      <td>1</td>\n",
       "      <td>4</td>\n",
       "      <td>1</td>\n",
       "    </tr>\n",
       "    <tr>\n",
       "      <th>3</th>\n",
       "      <td>Hornet 4 Drive</td>\n",
       "      <td>21.4</td>\n",
       "      <td>6</td>\n",
       "      <td>258.0</td>\n",
       "      <td>110</td>\n",
       "      <td>3.08</td>\n",
       "      <td>3.215</td>\n",
       "      <td>19.44</td>\n",
       "      <td>1</td>\n",
       "      <td>0</td>\n",
       "      <td>3</td>\n",
       "      <td>1</td>\n",
       "    </tr>\n",
       "    <tr>\n",
       "      <th>4</th>\n",
       "      <td>Hornet Sportabout</td>\n",
       "      <td>18.7</td>\n",
       "      <td>8</td>\n",
       "      <td>360.0</td>\n",
       "      <td>175</td>\n",
       "      <td>3.15</td>\n",
       "      <td>3.440</td>\n",
       "      <td>17.02</td>\n",
       "      <td>0</td>\n",
       "      <td>0</td>\n",
       "      <td>3</td>\n",
       "      <td>2</td>\n",
       "    </tr>\n",
       "  </tbody>\n",
       "</table>\n",
       "</div>"
      ],
      "text/plain": [
       "               nomes   mpg  cyl   disp   hp  drat     wt   qsec  vs  am  gear  \\\n",
       "0          Mazda RX4  21.0    6  160.0  110  3.90  2.620  16.46   0   1     4   \n",
       "1      Mazda RX4 Wag  21.0    6  160.0  110  3.90  2.875  17.02   0   1     4   \n",
       "2         Datsun 710  22.8    4  108.0   93  3.85  2.320  18.61   1   1     4   \n",
       "3     Hornet 4 Drive  21.4    6  258.0  110  3.08  3.215  19.44   1   0     3   \n",
       "4  Hornet Sportabout  18.7    8  360.0  175  3.15  3.440  17.02   0   0     3   \n",
       "\n",
       "   carb  \n",
       "0     4  \n",
       "1     4  \n",
       "2     1  \n",
       "3     1  \n",
       "4     2  "
      ]
     },
     "execution_count": 4,
     "metadata": {},
     "output_type": "execute_result"
    }
   ],
   "source": [
    "#calculando coeficiente de Pearson\n",
    "import pandas as pd\n",
    "import numpy as np\n",
    "\n",
    "import matplotlib.pyplot as plt\n",
    "from matplotlib import rcParams\n",
    "\n",
    "import seaborn as sns\n",
    "\n",
    "%matplotlib inline\n",
    "rcParams['figure.figsize']=6,3\n",
    "sns.set_style('whitegrid')\n",
    "\n",
    "caminho = r'C:\\Users\\leandro.rocha.A1\\PycharmProjects\\Linkedin_python_ds\\dados\\mtcars.csv'\n",
    "\n",
    "carros = pd.read_csv(caminho)\n",
    "carros.columns = ['nomes','mpg','cyl','disp','hp','drat','wt','qsec','vs','am','gear','carb']\n",
    "carros.head()"
   ]
  },
  {
   "cell_type": "code",
   "execution_count": 5,
   "id": "d8491cbd",
   "metadata": {},
   "outputs": [],
   "source": [
    "from scipy.stats import spearmanr"
   ]
  },
  {
   "cell_type": "code",
   "execution_count": 7,
   "id": "3c2cbf91",
   "metadata": {},
   "outputs": [
    {
     "data": {
      "text/plain": [
       "<seaborn.axisgrid.PairGrid at 0x243025f89a0>"
      ]
     },
     "execution_count": 7,
     "metadata": {},
     "output_type": "execute_result"
    },
    {
     "data": {
      "image/png": "[encoded data removed]",
      "text/plain": [
       "<Figure size 720x720 with 20 Axes>"
      ]
     },
     "metadata": {},
     "output_type": "display_data"
    }
   ],
   "source": [
    "X = carros[['cyl', 'vs', 'am', 'gear']]\n",
    "sns.pairplot(X)"
   ]
  },
  {
   "cell_type": "code",
   "execution_count": 9,
   "id": "e25d5211",
   "metadata": {},
   "outputs": [
    {
     "name": "stdout",
     "output_type": "stream",
     "text": [
      "Correlação de Spearman -0.814\n"
     ]
    }
   ],
   "source": [
    "cyl = carros['cyl']\n",
    "vs = carros['vs']\n",
    "am = carros['am']\n",
    "gear = carros['gear']\n",
    "\n",
    "#calculo do coeficeiente de Spearman\n",
    "\n",
    "coeficiente, p_valor = spearmanr(cyl, vs)\n",
    "print('Correlação de Spearman {:0.3}'.format(coeficiente))"
   ]
  },
  {
   "cell_type": "code",
   "execution_count": 10,
   "id": "1c1ed0ff",
   "metadata": {},
   "outputs": [
    {
     "name": "stdout",
     "output_type": "stream",
     "text": [
      "Correlação de Spearman -0.522\n"
     ]
    }
   ],
   "source": [
    "coeficiente, p_valor = spearmanr(cyl, am)\n",
    "print('Correlação de Spearman {:0.3}'.format(coeficiente))"
   ]
  },
  {
   "cell_type": "code",
   "execution_count": 11,
   "id": "f1a78531",
   "metadata": {},
   "outputs": [
    {
     "name": "stdout",
     "output_type": "stream",
     "text": [
      "Correlação de Spearman -0.564\n"
     ]
    }
   ],
   "source": [
    "coeficiente, p_valor = spearmanr(cyl, gear)\n",
    "print('Correlação de Spearman {:0.3}'.format(coeficiente))"
   ]
  },
  {
   "cell_type": "code",
   "execution_count": 12,
   "id": "fffb1a50",
   "metadata": {},
   "outputs": [],
   "source": [
    "#Qui-quadrado\n",
    "tab = pd.crosstab(cyl, am)\n",
    "\n",
    "from scipy.stats import chi2_contingency"
   ]
  },
  {
   "cell_type": "code",
   "execution_count": 15,
   "id": "51237fc9",
   "metadata": {},
   "outputs": [
    {
     "name": "stdout",
     "output_type": "stream",
     "text": [
      "Qui-quadrado:8.74 p-valor0.0126\n"
     ]
    }
   ],
   "source": [
    "chi2,p ,dof,exp = chi2_contingency(tab.values)\n",
    "print('Qui-quadrado:{:0.3} p-valor{:0.3}'.format(chi2, p))"
   ]
  },
  {
   "cell_type": "code",
   "execution_count": 16,
   "id": "5c92975b",
   "metadata": {},
   "outputs": [
    {
     "name": "stdout",
     "output_type": "stream",
     "text": [
      "Qui-quadrado:21.3 p-valor2.32e-05\n"
     ]
    }
   ],
   "source": [
    "tab = pd.crosstab(cyl, vs)\n",
    "chi2,p ,dof,exp = chi2_contingency(tab.values)\n",
    "print('Qui-quadrado:{:0.3} p-valor{:0.3}'.format(chi2, p))"
   ]
  },
  {
   "cell_type": "code",
   "execution_count": 17,
   "id": "62320e01",
   "metadata": {},
   "outputs": [
    {
     "name": "stdout",
     "output_type": "stream",
     "text": [
      "Qui-quadrado:18.0 p-valor0.00121\n"
     ]
    }
   ],
   "source": [
    "tab = pd.crosstab(cyl, gear)\n",
    "chi2,p ,dof,exp = chi2_contingency(tab.values)\n",
    "print('Qui-quadrado:{:0.3} p-valor{:0.3}'.format(chi2, p))"
   ]
  },
  {
   "cell_type": "code",
   "execution_count": null,
   "id": "f9334f38",
   "metadata": {},
   "outputs": [],
   "source": [
    "\"\"\"\n",
    "Como todos os valores de p-value são menores que 0,05, contatamos que todas as variaveis são correlacionadas\n",
    "\"\"\""
   ]
  }
 ],
 "metadata": {
  "kernelspec": {
   "display_name": "Python 3",
   "language": "python",
   "name": "python3"
  },
  "language_info": {
   "codemirror_mode": {
    "name": "ipython",
    "version": 3
   },
   "file_extension": ".py",
   "mimetype": "text/x-python",
   "name": "python",
   "nbconvert_exporter": "python",
   "pygments_lexer": "ipython3",
   "version": "3.8.8"
  }
 },
 "nbformat": 4,
 "nbformat_minor": 5
}
